{
 "cells": [
  {
   "cell_type": "code",
   "execution_count": 1,
   "metadata": {
    "collapsed": true
   },
   "outputs": [],
   "source": [
    "#Taking liquid argon files and producing downsized images to interpret\n",
    "import numpy as np\n",
    "import matplotlib.pyplot as plt"
   ]
  },
  {
   "cell_type": "code",
   "execution_count": 33,
   "metadata": {
    "scrolled": true
   },
   "outputs": [
    {
     "name": "stdout",
     "output_type": "stream",
     "text": [
      "0.88560628891\n",
      "0.596683621407\n",
      "0.21325647831\n",
      "0.145797133446\n",
      "1.19147992134\n",
      "0.646011352539\n",
      "0.527161955833\n",
      "1.33035326004\n",
      "1.27446448803\n",
      "0.683791637421\n"
     ]
    }
   ],
   "source": [
    "run lar_visualize.py photon_1-1462232439.h5"
   ]
  },
  {
   "cell_type": "code",
   "execution_count": 7,
   "metadata": {
    "collapsed": true
   },
   "outputs": [],
   "source": [
    "def my_range(start, end, step):\n",
    "    while start <= end:\n",
    "        yield start\n",
    "        start += step"
   ]
  },
  {
   "cell_type": "code",
   "execution_count": 84,
   "metadata": {},
   "outputs": [
    {
     "name": "stdout",
     "output_type": "stream",
     "text": [
      "2540.0\n"
     ]
    }
   ],
   "source": [
    "print np.max(data)"
   ]
  },
  {
   "cell_type": "code",
   "execution_count": 126,
   "metadata": {},
   "outputs": [
    {
     "name": "stdout",
     "output_type": "stream",
     "text": [
      "-310.0\n"
     ]
    }
   ],
   "source": [
    "print np.min(data)"
   ]
  },
  {
   "cell_type": "code",
   "execution_count": 66,
   "metadata": {},
   "outputs": [
    {
     "data": {
      "text/plain": [
       "983040"
      ]
     },
     "execution_count": 66,
     "metadata": {},
     "output_type": "execute_result"
    }
   ],
   "source": [
    "240 * 4096"
   ]
  },
  {
   "cell_type": "code",
   "execution_count": 127,
   "metadata": {
    "scrolled": true
   },
   "outputs": [
    {
     "data": {
      "image/png": "[encoded data removed]",
      "text/plain": [
       "<matplotlib.figure.Figure at 0x112f2c5d0>"
      ]
     },
     "metadata": {},
     "output_type": "display_data"
    }
   ],
   "source": [
    "#my_vals = data[0][0].flatten()\n",
    "my_vals = np.log(data[:,:,:,:].flatten() + 400)\n",
    "\n",
    "plt.hist(my_vals)\n",
    "plt.yscale('log', nonposy='clip')\n",
    "plt.show()"
   ]
  },
  {
   "cell_type": "code",
   "execution_count": 111,
   "metadata": {
    "collapsed": true
   },
   "outputs": [],
   "source": [
    "my_vals_copy = my_vals.copy()"
   ]
  },
  {
   "cell_type": "code",
   "execution_count": 112,
   "metadata": {},
   "outputs": [],
   "source": [
    "my_vals_copy[np.where(my_vals >= 0)] = 0"
   ]
  },
  {
   "cell_type": "code",
   "execution_count": 116,
   "metadata": {},
   "outputs": [],
   "source": [
    "my_vals_copy = my_vals_copy.reshape((10, 2, 240, 4096))"
   ]
  },
  {
   "cell_type": "code",
   "execution_count": 117,
   "metadata": {},
   "outputs": [
    {
     "data": {
      "text/plain": [
       "(10, 2, 240, 4096)"
      ]
     },
     "execution_count": 117,
     "metadata": {},
     "output_type": "execute_result"
    }
   ],
   "source": [
    "my_vals_copy.shape"
   ]
  },
  {
   "cell_type": "code",
   "execution_count": 122,
   "metadata": {},
   "outputs": [
    {
     "data": {
      "image/png": "[encoded data removed]",
      "text/plain": [
       "<matplotlib.figure.Figure at 0x11c6049d0>"
      ]
     },
     "metadata": {},
     "output_type": "display_data"
    }
   ],
   "source": [
    "plt.imshow(my_vals_copy[1][0])\n",
    "plt.show()"
   ]
  },
  {
   "cell_type": "code",
   "execution_count": 140,
   "metadata": {},
   "outputs": [
    {
     "name": "stdout",
     "output_type": "stream",
     "text": [
      "(10, 2, 240, 4096)\n",
      "19660800\n",
      "[[[[ 0.  0.  0. ...,  0.  0.  0.]\n",
      "   [ 0.  0.  0. ...,  0.  0.  0.]\n",
      "   [ 0.  0.  0. ...,  0.  0.  0.]\n",
      "   ..., \n",
      "   [-1. -1. -1. ...,  0.  0.  0.]\n",
      "   [ 0.  0.  0. ...,  0.  0.  0.]\n",
      "   [ 1.  1.  0. ...,  0.  0.  1.]]\n",
      "\n",
      "  [[ 0.  0.  0. ...,  0.  0.  0.]\n",
      "   [ 1.  1.  1. ...,  0.  0.  1.]\n",
      "   [ 0.  0.  0. ...,  0.  0.  0.]\n",
      "   ..., \n",
      "   [-1. -1.  0. ..., -1. -1. -1.]\n",
      "   [ 0.  0.  0. ...,  0.  0.  0.]\n",
      "   [ 0.  0.  0. ...,  0.  0.  0.]]]\n",
      "\n",
      "\n",
      " [[[ 0.  0.  0. ...,  0.  0.  0.]\n",
      "   [ 0.  0. -1. ...,  0.  0.  0.]\n",
      "   [ 0.  0.  0. ...,  0.  0.  0.]\n",
      "   ..., \n",
      "   [ 0.  0.  0. ...,  0.  0.  0.]\n",
      "   [ 0.  0.  0. ...,  0.  0.  0.]\n",
      "   [ 0.  0.  0. ...,  0.  0.  0.]]\n",
      "\n",
      "  [[ 0.  1.  0. ...,  0.  0.  0.]\n",
      "   [ 0.  0.  0. ...,  0.  0.  0.]\n",
      "   [ 0.  0.  0. ...,  0.  0.  0.]\n",
      "   ..., \n",
      "   [ 0.  0.  0. ...,  0.  0.  0.]\n",
      "   [ 0. -1. -1. ...,  0.  0.  0.]\n",
      "   [ 0.  0.  0. ...,  0.  0.  0.]]]\n",
      "\n",
      "\n",
      " [[[ 0.  0.  0. ...,  1.  1.  1.]\n",
      "   [ 0.  0.  0. ...,  0.  0.  0.]\n",
      "   [ 0.  0.  0. ...,  0.  0.  0.]\n",
      "   ..., \n",
      "   [ 0.  0.  0. ...,  0.  0.  0.]\n",
      "   [ 0.  0. -1. ...,  0.  0.  0.]\n",
      "   [ 0.  0.  0. ...,  0.  0.  0.]]\n",
      "\n",
      "  [[ 0.  0.  0. ...,  0.  0.  0.]\n",
      "   [ 0.  0.  0. ...,  0.  0.  0.]\n",
      "   [ 0.  0.  0. ...,  0.  0.  0.]\n",
      "   ..., \n",
      "   [ 0.  0.  0. ...,  0.  0.  0.]\n",
      "   [ 0.  0.  0. ...,  0.  0.  0.]\n",
      "   [ 0.  0.  1. ...,  0.  0.  0.]]]\n",
      "\n",
      "\n",
      " ..., \n",
      " [[[ 0.  0.  0. ...,  0.  0.  0.]\n",
      "   [ 0.  0.  0. ...,  0.  0.  0.]\n",
      "   [ 0.  0.  0. ...,  0.  0.  0.]\n",
      "   ..., \n",
      "   [ 0.  0.  0. ...,  0.  0.  0.]\n",
      "   [ 0.  0.  0. ...,  0.  0.  0.]\n",
      "   [ 0.  0.  0. ...,  0.  0.  0.]]\n",
      "\n",
      "  [[ 0.  0.  0. ...,  0.  0.  0.]\n",
      "   [ 0.  0.  0. ...,  0.  0.  0.]\n",
      "   [ 0.  0.  0. ...,  0.  0.  0.]\n",
      "   ..., \n",
      "   [ 0.  0.  0. ...,  0.  0.  0.]\n",
      "   [ 0.  0.  0. ...,  0.  0.  0.]\n",
      "   [ 0. -1. -1. ...,  0.  0.  0.]]]\n",
      "\n",
      "\n",
      " [[[ 0. -1. -1. ...,  0.  0.  0.]\n",
      "   [ 0.  0.  0. ...,  0.  0.  0.]\n",
      "   [ 1.  1.  1. ...,  0.  1.  1.]\n",
      "   ..., \n",
      "   [ 0.  0.  0. ...,  0.  0.  0.]\n",
      "   [ 0.  0.  0. ...,  0.  0.  0.]\n",
      "   [ 0.  0.  0. ...,  0.  0.  0.]]\n",
      "\n",
      "  [[ 0.  0.  0. ...,  0.  0.  0.]\n",
      "   [ 0.  0.  0. ...,  0.  0.  0.]\n",
      "   [ 0. -1. -1. ...,  0.  0.  0.]\n",
      "   ..., \n",
      "   [ 1.  1.  1. ...,  1.  1.  1.]\n",
      "   [ 0.  0.  0. ...,  0.  0.  0.]\n",
      "   [ 0.  1.  1. ...,  0.  0.  0.]]]\n",
      "\n",
      "\n",
      " [[[ 0.  0.  0. ...,  1.  0.  0.]\n",
      "   [-1.  0.  0. ..., -1. -1. -1.]\n",
      "   [ 0.  0.  0. ...,  1.  0.  0.]\n",
      "   ..., \n",
      "   [ 0.  0.  0. ...,  0.  0.  0.]\n",
      "   [ 1.  1.  1. ...,  0.  1.  1.]\n",
      "   [ 0. -1. -1. ...,  0.  0.  0.]]\n",
      "\n",
      "  [[ 0.  0.  0. ...,  0.  0.  0.]\n",
      "   [ 0.  1.  1. ...,  0.  0.  0.]\n",
      "   [-1. -1. -1. ..., -2. -2. -2.]\n",
      "   ..., \n",
      "   [ 1.  1.  1. ...,  1.  1.  1.]\n",
      "   [ 0.  0.  0. ...,  0.  0.  0.]\n",
      "   [-2. -2. -2. ..., -1. -1. -1.]]]]\n"
     ]
    }
   ],
   "source": [
    "print data.shape\n",
    "print data.size\n",
    "print data"
   ]
  },
  {
   "cell_type": "code",
   "execution_count": 141,
   "metadata": {
    "scrolled": true
   },
   "outputs": [
    {
     "name": "stdout",
     "output_type": "stream",
     "text": [
      "(10, 2, 240, 1024)\n",
      "4915200\n",
      "[[[[0 0 0 ..., 0 0 0]\n",
      "   [0 0 0 ..., 0 0 0]\n",
      "   [0 0 0 ..., 0 0 0]\n",
      "   ..., \n",
      "   [0 0 0 ..., 0 0 0]\n",
      "   [0 0 0 ..., 0 0 0]\n",
      "   [0 0 0 ..., 0 0 0]]\n",
      "\n",
      "  [[0 0 0 ..., 0 0 0]\n",
      "   [0 0 0 ..., 0 0 0]\n",
      "   [0 0 0 ..., 0 0 0]\n",
      "   ..., \n",
      "   [0 0 0 ..., 0 0 0]\n",
      "   [0 0 0 ..., 0 0 0]\n",
      "   [0 0 0 ..., 0 0 0]]]\n",
      "\n",
      "\n",
      " [[[0 0 0 ..., 0 0 0]\n",
      "   [0 0 0 ..., 0 0 0]\n",
      "   [0 0 0 ..., 0 0 0]\n",
      "   ..., \n",
      "   [0 0 0 ..., 0 0 0]\n",
      "   [0 0 0 ..., 0 0 0]\n",
      "   [0 0 0 ..., 0 0 0]]\n",
      "\n",
      "  [[0 0 0 ..., 0 0 0]\n",
      "   [0 0 0 ..., 0 0 0]\n",
      "   [0 0 0 ..., 0 0 0]\n",
      "   ..., \n",
      "   [0 0 0 ..., 0 0 0]\n",
      "   [0 0 0 ..., 0 0 0]\n",
      "   [0 0 0 ..., 0 0 0]]]\n",
      "\n",
      "\n",
      " [[[0 0 0 ..., 0 0 0]\n",
      "   [0 0 0 ..., 0 0 0]\n",
      "   [0 0 0 ..., 0 0 0]\n",
      "   ..., \n",
      "   [0 0 0 ..., 0 0 0]\n",
      "   [0 0 0 ..., 0 0 0]\n",
      "   [0 0 0 ..., 0 0 0]]\n",
      "\n",
      "  [[0 0 0 ..., 0 0 0]\n",
      "   [0 0 0 ..., 0 0 0]\n",
      "   [0 0 0 ..., 0 0 0]\n",
      "   ..., \n",
      "   [0 0 0 ..., 0 0 0]\n",
      "   [0 0 0 ..., 0 0 0]\n",
      "   [0 0 0 ..., 0 0 0]]]\n",
      "\n",
      "\n",
      " ..., \n",
      " [[[0 0 0 ..., 0 0 0]\n",
      "   [0 0 0 ..., 0 0 0]\n",
      "   [0 0 0 ..., 0 0 0]\n",
      "   ..., \n",
      "   [0 0 0 ..., 0 0 0]\n",
      "   [0 0 0 ..., 0 0 0]\n",
      "   [0 0 0 ..., 0 0 0]]\n",
      "\n",
      "  [[0 0 0 ..., 0 0 0]\n",
      "   [0 0 0 ..., 0 0 0]\n",
      "   [0 0 0 ..., 0 0 0]\n",
      "   ..., \n",
      "   [0 0 0 ..., 0 0 0]\n",
      "   [0 0 0 ..., 0 0 0]\n",
      "   [0 0 0 ..., 0 0 0]]]\n",
      "\n",
      "\n",
      " [[[0 0 0 ..., 0 0 0]\n",
      "   [0 0 0 ..., 0 0 0]\n",
      "   [0 0 0 ..., 0 0 0]\n",
      "   ..., \n",
      "   [0 0 0 ..., 0 0 0]\n",
      "   [0 0 0 ..., 0 0 0]\n",
      "   [0 0 0 ..., 0 0 0]]\n",
      "\n",
      "  [[0 0 0 ..., 0 0 0]\n",
      "   [0 0 0 ..., 0 0 0]\n",
      "   [0 0 0 ..., 0 0 0]\n",
      "   ..., \n",
      "   [0 0 0 ..., 0 0 0]\n",
      "   [0 0 0 ..., 0 0 0]\n",
      "   [0 0 0 ..., 0 0 0]]]\n",
      "\n",
      "\n",
      " [[[0 0 0 ..., 0 0 0]\n",
      "   [0 0 0 ..., 0 0 0]\n",
      "   [0 0 0 ..., 0 0 0]\n",
      "   ..., \n",
      "   [0 0 0 ..., 0 0 0]\n",
      "   [0 0 0 ..., 0 0 0]\n",
      "   [0 0 0 ..., 0 0 0]]\n",
      "\n",
      "  [[0 0 0 ..., 0 0 0]\n",
      "   [0 0 0 ..., 0 0 0]\n",
      "   [0 0 0 ..., 0 0 0]\n",
      "   ..., \n",
      "   [0 0 0 ..., 0 0 0]\n",
      "   [0 0 0 ..., 0 0 0]\n",
      "   [0 0 0 ..., 0 0 0]]]]\n"
     ]
    }
   ],
   "source": [
    "simpledata=np.random.randint(1, size=(10, 2, 240, 1024))\n",
    "print simpledata.shape\n",
    "print simpledata.size\n",
    "print simpledata"
   ]
  },
  {
   "cell_type": "code",
   "execution_count": 147,
   "metadata": {
    "scrolled": true
   },
   "outputs": [
    {
     "ename": "ValueError",
     "evalue": "cannot reshape array of size 9600 into shape (10,2,240,1)",
     "output_type": "error",
     "traceback": [
      "\u001b[0;31m---------------------------------------------------------------------------\u001b[0m",
      "\u001b[0;31mValueError\u001b[0m                                Traceback (most recent call last)",
      "\u001b[0;32m<ipython-input-147-59870c308cfd>\u001b[0m in \u001b[0;36m<module>\u001b[0;34m()\u001b[0m\n\u001b[1;32m      2\u001b[0m \u001b[0;34m\u001b[0m\u001b[0m\n\u001b[1;32m      3\u001b[0m \u001b[0;32mfor\u001b[0m \u001b[0mx\u001b[0m \u001b[0;32min\u001b[0m \u001b[0mmy_range\u001b[0m\u001b[0;34m(\u001b[0m\u001b[0;36m0\u001b[0m\u001b[0;34m,\u001b[0m \u001b[0;36m4096\u001b[0m\u001b[0;34m,\u001b[0m \u001b[0;36m4\u001b[0m\u001b[0;34m)\u001b[0m\u001b[0;34m:\u001b[0m\u001b[0;34m\u001b[0m\u001b[0m\n\u001b[0;32m----> 4\u001b[0;31m     \u001b[0msimpledata\u001b[0m\u001b[0;34m[\u001b[0m\u001b[0;34m:\u001b[0m\u001b[0;34m,\u001b[0m\u001b[0;34m:\u001b[0m\u001b[0;34m,\u001b[0m\u001b[0;34m:\u001b[0m\u001b[0;34m,\u001b[0m\u001b[0my\u001b[0m\u001b[0;34m:\u001b[0m\u001b[0;34m(\u001b[0m\u001b[0my\u001b[0m\u001b[0;34m+\u001b[0m\u001b[0;36m1\u001b[0m\u001b[0;34m)\u001b[0m\u001b[0;34m]\u001b[0m\u001b[0;34m=\u001b[0m\u001b[0mnp\u001b[0m\u001b[0;34m.\u001b[0m\u001b[0mnanmean\u001b[0m\u001b[0;34m(\u001b[0m\u001b[0mdata\u001b[0m\u001b[0;34m[\u001b[0m\u001b[0;34m:\u001b[0m\u001b[0;34m,\u001b[0m\u001b[0;34m:\u001b[0m\u001b[0;34m,\u001b[0m\u001b[0;34m:\u001b[0m\u001b[0;34m,\u001b[0m\u001b[0mx\u001b[0m\u001b[0;34m:\u001b[0m\u001b[0;34m(\u001b[0m\u001b[0mx\u001b[0m\u001b[0;34m+\u001b[0m\u001b[0;36m4\u001b[0m\u001b[0;34m)\u001b[0m\u001b[0;34m]\u001b[0m\u001b[0;34m,\u001b[0m \u001b[0maxis\u001b[0m\u001b[0;34m=\u001b[0m\u001b[0;36m1\u001b[0m\u001b[0;34m)\u001b[0m\u001b[0;34m.\u001b[0m\u001b[0mreshape\u001b[0m\u001b[0;34m(\u001b[0m\u001b[0;36m10\u001b[0m\u001b[0;34m,\u001b[0m\u001b[0;36m2\u001b[0m\u001b[0;34m,\u001b[0m\u001b[0;36m240\u001b[0m\u001b[0;34m,\u001b[0m\u001b[0;36m1\u001b[0m\u001b[0;34m)\u001b[0m\u001b[0;34m\u001b[0m\u001b[0m\n\u001b[0m\u001b[1;32m      5\u001b[0m \u001b[0;34m\u001b[0m\u001b[0m\n\u001b[1;32m      6\u001b[0m     \u001b[0my\u001b[0m\u001b[0;34m+=\u001b[0m\u001b[0;36m1\u001b[0m\u001b[0;34m\u001b[0m\u001b[0m\n",
      "\u001b[0;31mValueError\u001b[0m: cannot reshape array of size 9600 into shape (10,2,240,1)"
     ]
    }
   ],
   "source": [
    "y=0\n",
    "\n",
    "for x in my_range(0, 4096, 4):\n",
    "    simpledata[:,:,:,y:(y+1)]=np.nanmean(data[:,:,:,x:(x+4)], axis=1).reshape(10,2,240,1)\n",
    "    \n",
    "    y+=1\n",
    "\n",
    "print simpledata"
   ]
  },
  {
   "cell_type": "code",
   "execution_count": null,
   "metadata": {
    "collapsed": true
   },
   "outputs": [],
   "source": []
  }
 ],
 "metadata": {
  "kernelspec": {
   "display_name": "Python 2",
   "language": "python",
   "name": "python2"
  },
  "language_info": {
   "codemirror_mode": {
    "name": "ipython",
    "version": 2
   },
   "file_extension": ".py",
   "mimetype": "text/x-python",
   "name": "python",
   "nbconvert_exporter": "python",
   "pygments_lexer": "ipython2",
   "version": "2.7.13"
  }
 },
 "nbformat": 4,
 "nbformat_minor": 2
}
