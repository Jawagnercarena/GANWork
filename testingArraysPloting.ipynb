{
 "cells": [
  {
   "cell_type": "code",
   "execution_count": 1,
   "metadata": {
    "collapsed": true
   },
   "outputs": [],
   "source": [
    "#trial with Arrays before working on actual testing data\n",
    "import numpy as np\n",
    "import matplotlib.pyplot as plt"
   ]
  },
  {
   "cell_type": "code",
   "execution_count": 2,
   "metadata": {
    "collapsed": true
   },
   "outputs": [],
   "source": [
    "my_array= np.reshape(np.arange(983040),(240,4096))"
   ]
  },
  {
   "cell_type": "code",
   "execution_count": 3,
   "metadata": {
    "scrolled": true
   },
   "outputs": [
    {
     "name": "stdout",
     "output_type": "stream",
     "text": [
      "[[     0      1      2 ...,   4093   4094   4095]\n",
      " [  4096   4097   4098 ...,   8189   8190   8191]\n",
      " [  8192   8193   8194 ...,  12285  12286  12287]\n",
      " ..., \n",
      " [970752 970753 970754 ..., 974845 974846 974847]\n",
      " [974848 974849 974850 ..., 978941 978942 978943]\n",
      " [978944 978945 978946 ..., 983037 983038 983039]]\n"
     ]
    }
   ],
   "source": [
    "print my_array"
   ]
  },
  {
   "cell_type": "code",
   "execution_count": 4,
   "metadata": {},
   "outputs": [
    {
     "name": "stdout",
     "output_type": "stream",
     "text": [
      "[[     0      1      2 ...,   4093   4094   4095]\n",
      " [  4096   4097   4098 ...,   8189   8190   8191]\n",
      " [  8192   8193   8194 ...,  12285  12286  12287]\n",
      " ..., \n",
      " [970752 970753 970754 ..., 974845 974846 974847]\n",
      " [974848 974849 974850 ..., 978941 978942 978943]\n",
      " [978944 978945 978946 ..., 983037 983038 983039]]\n"
     ]
    },
    {
     "data": {
      "image/png": "[encoded data removed]",
      "text/plain": [
       "<matplotlib.figure.Figure at 0x107804050>"
      ]
     },
     "metadata": {},
     "output_type": "display_data"
    }
   ],
   "source": [
    "print my_array\n",
    "plt.plot(my_array)\n",
    "plt.show()"
   ]
  },
  {
   "cell_type": "code",
   "execution_count": 5,
   "metadata": {
    "scrolled": true
   },
   "outputs": [
    {
     "name": "stdout",
     "output_type": "stream",
     "text": [
      "[[     0      1      2 ...,   4093   4094   4095]\n",
      " [  4096   4097   4098 ...,   8189   8190   8191]\n",
      " [  8192   8193   8194 ...,  12285  12286  12287]\n",
      " ..., \n",
      " [970752 970753 970754 ..., 974845 974846 974847]\n",
      " [974848 974849 974850 ..., 978941 978942 978943]\n",
      " [978944 978945 978946 ..., 983037 983038 983039]]\n",
      "[[     0      1      2 ...,   4093   4094   4095]\n",
      " [     0   4097   4098 ...,   8189   8190   8191]\n",
      " [     0   8193   8194 ...,  12285  12286  12287]\n",
      " ..., \n",
      " [     0 970753 970754 ..., 974845 974846 974847]\n",
      " [     0 974849 974850 ..., 978941 978942 978943]\n",
      " [     0 978945 978946 ..., 983037 983038 983039]]\n"
     ]
    }
   ],
   "source": [
    "editArray = my_array.copy()\n",
    "print editArray\n",
    "editArray[:,0].fill(0)\n",
    "print editArray"
   ]
  },
  {
   "cell_type": "code",
   "execution_count": 6,
   "metadata": {},
   "outputs": [
    {
     "name": "stdout",
     "output_type": "stream",
     "text": [
      "[[     0      1      2 ...,   4093   4094   4095]\n",
      " [     0      1   4098 ...,   8189   8190   8191]\n",
      " [     0      1   8194 ...,  12285  12286  12287]\n",
      " ..., \n",
      " [     0      1 970754 ..., 974845 974846 974847]\n",
      " [     0      1 974850 ..., 978941 978942 978943]\n",
      " [     0      1 978946 ..., 983037 983038 983039]]\n"
     ]
    }
   ],
   "source": [
    "editArray[:,1].fill(1)\n",
    "print editArray"
   ]
  },
  {
   "cell_type": "code",
   "execution_count": 7,
   "metadata": {},
   "outputs": [
    {
     "name": "stdout",
     "output_type": "stream",
     "text": [
      "[[     0      1      2 ...,   4093   4094   4095]\n",
      " [     0      1   4098 ...,   8189   8190   8191]\n",
      " [     0      1   8194 ...,  12285  12286  12287]\n",
      " ..., \n",
      " [     0      1 970754 ..., 974845 974846 974847]\n",
      " [     0      1 974850 ..., 978941 978942 978943]\n",
      " [     0      1 978946 ..., 983037 983038 983039]]\n"
     ]
    }
   ],
   "source": [
    "editArray[:,6].fill(6)\n",
    "editArray[:,7].fill(7)\n",
    "print editArray"
   ]
  },
  {
   "cell_type": "code",
   "execution_count": 8,
   "metadata": {},
   "outputs": [
    {
     "name": "stdout",
     "output_type": "stream",
     "text": [
      "[[     0      0      2 ...,   4093   4094   4095]\n",
      " [     0      0   4098 ...,   8189   8190   8191]\n",
      " [     0      0   8194 ...,  12285  12286  12287]\n",
      " ..., \n",
      " [     0      0 970754 ..., 974845 974846 974847]\n",
      " [     0      0 974850 ..., 978941 978942 978943]\n",
      " [     0      0 978946 ..., 983037 983038 983039]]\n"
     ]
    }
   ],
   "source": [
    "editArray[:,1:2].fill(0)\n",
    "print editArray"
   ]
  },
  {
   "cell_type": "code",
   "execution_count": 9,
   "metadata": {},
   "outputs": [
    {
     "name": "stdout",
     "output_type": "stream",
     "text": [
      "[[ 0  0  0 ..., 30 30 30]\n",
      " [ 0  0  0 ..., 30 30 30]\n",
      " [ 0  0  0 ..., 30 30 30]\n",
      " ..., \n",
      " [ 0  0  0 ..., 30 30 30]\n",
      " [ 0  0  0 ..., 30 30 30]\n",
      " [ 0  0  0 ..., 30 30 30]]\n"
     ]
    }
   ],
   "source": [
    "editArray[:,0:1023].fill(0)\n",
    "editArray[:,1023:2048].fill(10)\n",
    "editArray[:,2048:3072].fill(20)\n",
    "editArray[:,3072:4096].fill(30)\n",
    "print editArray"
   ]
  },
  {
   "cell_type": "code",
   "execution_count": 10,
   "metadata": {
    "scrolled": false
   },
   "outputs": [
    {
     "name": "stdout",
     "output_type": "stream",
     "text": [
      "[[ 0  0  0 ..., 30 30 30]\n",
      " [ 0  0  0 ..., 30 30 30]\n",
      " [ 0  0  0 ..., 30 30 30]\n",
      " ..., \n",
      " [ 0  0  0 ..., 30 30 30]\n",
      " [ 0  0  0 ..., 30 30 30]\n",
      " [ 0  0  0 ..., 30 30 30]]\n"
     ]
    },
    {
     "data": {
      "image/png": "[encoded data removed]",
      "text/plain": [
       "<matplotlib.figure.Figure at 0x10804d3d0>"
      ]
     },
     "metadata": {},
     "output_type": "display_data"
    }
   ],
   "source": [
    "print editArray\n",
    "plt.plot(editArray)\n",
    "plt.show()"
   ]
  },
  {
   "cell_type": "code",
   "execution_count": 11,
   "metadata": {},
   "outputs": [
    {
     "data": {
      "image/png": "[encoded data removed]",
      "text/plain": [
       "<matplotlib.figure.Figure at 0x10be74450>"
      ]
     },
     "metadata": {},
     "output_type": "display_data"
    }
   ],
   "source": [
    "plt.imshow(editArray, origin='lower')\n",
    "plt.show()"
   ]
  },
  {
   "cell_type": "code",
   "execution_count": 19,
   "metadata": {
    "collapsed": true
   },
   "outputs": [],
   "source": [
    "#?plt.imshow"
   ]
  },
  {
   "cell_type": "code",
   "execution_count": 12,
   "metadata": {},
   "outputs": [
    {
     "data": {
      "image/png": "[encoded data removed]",
      "text/plain": [
       "<matplotlib.figure.Figure at 0x10d0723d0>"
      ]
     },
     "metadata": {},
     "output_type": "display_data"
    }
   ],
   "source": [
    "fig = plt.figure(figsize=(18, 6))\n",
    "plt.imshow(editArray, origin='lower')\n",
    "plt.show()"
   ]
  },
  {
   "cell_type": "code",
   "execution_count": 13,
   "metadata": {},
   "outputs": [
    {
     "data": {
      "image/png": "[encoded data removed]",
      "text/plain": [
       "<matplotlib.figure.Figure at 0x10be31710>"
      ]
     },
     "metadata": {},
     "output_type": "display_data"
    }
   ],
   "source": [
    "fig = plt.figure(figsize=(18, 6))\n",
    "plt.imshow(my_array, origin='lower')\n",
    "plt.show()"
   ]
  },
  {
   "cell_type": "code",
   "execution_count": 16,
   "metadata": {
    "collapsed": true
   },
   "outputs": [],
   "source": [
    "#?np.zeros"
   ]
  },
  {
   "cell_type": "code",
   "execution_count": 14,
   "metadata": {},
   "outputs": [
    {
     "name": "stdout",
     "output_type": "stream",
     "text": [
      "0.88560628891\n"
     ]
    },
    {
     "data": {
      "image/png": "[encoded data removed]",
      "text/plain": [
       "<matplotlib.figure.Figure at 0x10d19de50>"
      ]
     },
     "metadata": {},
     "output_type": "display_data"
    },
    {
     "data": {
      "image/png": "[encoded data removed]",
      "text/plain": [
       "<matplotlib.figure.Figure at 0x10d1b7410>"
      ]
     },
     "metadata": {},
     "output_type": "display_data"
    },
    {
     "name": "stdout",
     "output_type": "stream",
     "text": [
      "0.596683621407\n"
     ]
    },
    {
     "data": {
      "image/png": "[encoded data removed]",
      "text/plain": [
       "<matplotlib.figure.Figure at 0x10d0da190>"
      ]
     },
     "metadata": {},
     "output_type": "display_data"
    },
    {
     "data": {
      "image/png": "[encoded data removed]",
      "text/plain": [
       "<matplotlib.figure.Figure at 0x112b65190>"
      ]
     },
     "metadata": {},
     "output_type": "display_data"
    },
    {
     "name": "stdout",
     "output_type": "stream",
     "text": [
      "0.21325647831\n"
     ]
    },
    {
     "data": {
      "image/png": "[encoded data removed]",
      "text/plain": [
       "<matplotlib.figure.Figure at 0x10d213c50>"
      ]
     },
     "metadata": {},
     "output_type": "display_data"
    },
    {
     "data": {
      "image/png": "[encoded data removed]",
      "text/plain": [
       "<matplotlib.figure.Figure at 0x1211518d0>"
      ]
     },
     "metadata": {},
     "output_type": "display_data"
    },
    {
     "name": "stdout",
     "output_type": "stream",
     "text": [
      "0.145797133446\n"
     ]
    },
    {
     "data": {
      "image/png": "[encoded data removed]",
      "text/plain": [
       "<matplotlib.figure.Figure at 0x112b18050>"
      ]
     },
     "metadata": {},
     "output_type": "display_data"
    },
    {
     "data": {
      "image/png": "[encoded data removed]",
      "text/plain": [
       "<matplotlib.figure.Figure at 0x121d4c2d0>"
      ]
     },
     "metadata": {},
     "output_type": "display_data"
    },
    {
     "name": "stdout",
     "output_type": "stream",
     "text": [
      "1.19147992134\n"
     ]
    },
    {
     "data": {
      "image/png": "[encoded data removed]",
      "text/plain": [
       "<matplotlib.figure.Figure at 0x1223f35d0>"
      ]
     },
     "metadata": {},
     "output_type": "display_data"
    },
    {
     "data": {
      "image/png": "[encoded data removed]",
      "text/plain": [
       "<matplotlib.figure.Figure at 0x12292de90>"
      ]
     },
     "metadata": {},
     "output_type": "display_data"
    },
    {
     "name": "stdout",
     "output_type": "stream",
     "text": [
      "0.646011352539\n"
     ]
    },
    {
     "data": {
      "image/png": "[encoded data removed]",
      "text/plain": [
       "<matplotlib.figure.Figure at 0x1234d17d0>"
      ]
     },
     "metadata": {},
     "output_type": "display_data"
    },
    {
     "data": {
      "image/png": "[encoded data removed]",
      "text/plain": [
       "<matplotlib.figure.Figure at 0x123523310>"
      ]
     },
     "metadata": {},
     "output_type": "display_data"
    },
    {
     "name": "stdout",
     "output_type": "stream",
     "text": [
      "0.527161955833\n"
     ]
    },
    {
     "data": {
      "image/png": "[encoded data removed]",
      "text/plain": [
       "<matplotlib.figure.Figure at 0x1234c3250>"
      ]
     },
     "metadata": {},
     "output_type": "display_data"
    },
    {
     "data": {
      "image/png": "[encoded data removed]",
      "text/plain": [
       "<matplotlib.figure.Figure at 0x1227f8950>"
      ]
     },
     "metadata": {},
     "output_type": "display_data"
    },
    {
     "name": "stdout",
     "output_type": "stream",
     "text": [
      "1.33035326004\n"
     ]
    },
    {
     "data": {
      "image/png": "[encoded data removed]",
      "text/plain": [
       "<matplotlib.figure.Figure at 0x1234e3090>"
      ]
     },
     "metadata": {},
     "output_type": "display_data"
    },
    {
     "data": {
      "image/png": "[encoded data removed]",
      "text/plain": [
       "<matplotlib.figure.Figure at 0x108e69550>"
      ]
     },
     "metadata": {},
     "output_type": "display_data"
    },
    {
     "name": "stdout",
     "output_type": "stream",
     "text": [
      "1.27446448803\n"
     ]
    },
    {
     "data": {
      "image/png": "[encoded data removed]",
      "text/plain": [
       "<matplotlib.figure.Figure at 0x123a8f190>"
      ]
     },
     "metadata": {},
     "output_type": "display_data"
    },
    {
     "data": {
      "image/png": "[encoded data removed]",
      "text/plain": [
       "<matplotlib.figure.Figure at 0x10bd6cad0>"
      ]
     },
     "metadata": {},
     "output_type": "display_data"
    },
    {
     "name": "stdout",
     "output_type": "stream",
     "text": [
      "0.683791637421\n"
     ]
    },
    {
     "data": {
      "image/png": "[encoded data removed]",
      "text/plain": [
       "<matplotlib.figure.Figure at 0x10cb73c10>"
      ]
     },
     "metadata": {},
     "output_type": "display_data"
    },
    {
     "data": {
      "image/png": "[encoded data removed]",
      "text/plain": [
       "<matplotlib.figure.Figure at 0x1235709d0>"
      ]
     },
     "metadata": {},
     "output_type": "display_data"
    }
   ],
   "source": [
    "run lar_visualize.py photon_1-1462232439.h5"
   ]
  },
  {
   "cell_type": "code",
   "execution_count": 15,
   "metadata": {
    "scrolled": true
   },
   "outputs": [
    {
     "name": "stdout",
     "output_type": "stream",
     "text": [
      "[[ 0  0  0 ..., 30 30 30]\n",
      " [ 0  0  0 ..., 30 30 30]\n",
      " [ 0  0  0 ..., 30 30 30]\n",
      " ..., \n",
      " [ 0  0  0 ..., 30 30 30]\n",
      " [ 0  0  0 ..., 30 30 30]\n",
      " [ 0  0  0 ..., 30 30 30]]\n",
      "[[ 0  0  0 ..., 30 30 30]\n",
      " [ 0  0  0 ..., 30 30 30]\n",
      " [ 0  0  0 ..., 30 30 30]\n",
      " ..., \n",
      " [ 0  0  0 ..., 30 30 30]\n",
      " [ 0  0  0 ..., 30 30 30]\n",
      " [ 0  0  0 ..., 30 30 30]]\n"
     ]
    }
   ],
   "source": [
    "print editArray\n",
    "editedArray = editArray.copy()\n",
    "print editedArray"
   ]
  },
  {
   "cell_type": "code",
   "execution_count": 16,
   "metadata": {
    "scrolled": true
   },
   "outputs": [
    {
     "name": "stdout",
     "output_type": "stream",
     "text": [
      "[[ 0  0  0 ..., 30 30 30]\n",
      " [ 0  0  0 ..., 30 30 30]\n",
      " [ 0  0  0 ..., 30 30 30]\n",
      " ..., \n",
      " [ 0  0  0 ..., 30 30 30]\n",
      " [ 0  0  0 ..., 30 30 30]\n",
      " [ 0  0  0 ..., 30 30 30]]\n",
      "[[   0    0    0 ..., 5115 5115 5115]\n",
      " [   0    0    0 ..., 5115 5115 5115]\n",
      " [   0    0    0 ..., 5115 5115 5115]\n",
      " ..., \n",
      " [   0    0    0 ..., 5115 5115 5115]\n",
      " [   0    0    0 ..., 5115 5115 5115]\n",
      " [   0    0    0 ..., 5115 5115 5115]]\n"
     ]
    }
   ],
   "source": [
    "print editedArray\n",
    "y=0\n",
    "\n",
    "def my_range(start, end, step):\n",
    "    while start <= end:\n",
    "        yield start\n",
    "        start += step\n",
    "\n",
    "for x in my_range(0, 4096, 4):\n",
    "    editedArray[:,x:(x+4)].fill(y)\n",
    "    y+=5\n",
    "    \n",
    "print editedArray"
   ]
  },
  {
   "cell_type": "code",
   "execution_count": 17,
   "metadata": {
    "scrolled": true
   },
   "outputs": [
    {
     "name": "stdout",
     "output_type": "stream",
     "text": [
      "[[   0    0    0 ..., 5115 5115 5115]\n",
      " [   0    0    0 ..., 5115 5115 5115]\n",
      " [   0    0    0 ..., 5115 5115 5115]\n",
      " ..., \n",
      " [   0    0    0 ..., 5115 5115 5115]\n",
      " [   0    0    0 ..., 5115 5115 5115]\n",
      " [   0    0    0 ..., 5115 5115 5115]]\n"
     ]
    },
    {
     "data": {
      "image/png": "[encoded data removed]",
      "text/plain": [
       "<matplotlib.figure.Figure at 0x10d277710>"
      ]
     },
     "metadata": {},
     "output_type": "display_data"
    }
   ],
   "source": [
    "print editedArray\n",
    "plt.plot(editedArray)\n",
    "plt.show()"
   ]
  },
  {
   "cell_type": "code",
   "execution_count": 18,
   "metadata": {
    "scrolled": true
   },
   "outputs": [
    {
     "data": {
      "image/png": "[encoded data removed]",
      "text/plain": [
       "<matplotlib.figure.Figure at 0x110027890>"
      ]
     },
     "metadata": {},
     "output_type": "display_data"
    }
   ],
   "source": [
    "fig = plt.figure(figsize=(18, 6))\n",
    "plt.imshow(editedArray, origin='lower')\n",
    "plt.show()"
   ]
  },
  {
   "cell_type": "code",
   "execution_count": null,
   "metadata": {
    "collapsed": true
   },
   "outputs": [],
   "source": []
  }
 ],
 "metadata": {
  "kernelspec": {
   "display_name": "Python 2",
   "language": "python",
   "name": "python2"
  },
  "language_info": {
   "codemirror_mode": {
    "name": "ipython",
    "version": 2
   },
   "file_extension": ".py",
   "mimetype": "text/x-python",
   "name": "python",
   "nbconvert_exporter": "python",
   "pygments_lexer": "ipython2",
   "version": "2.7.13"
  }
 },
 "nbformat": 4,
 "nbformat_minor": 2
}
